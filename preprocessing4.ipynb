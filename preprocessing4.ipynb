{
  "nbformat": 4,
  "nbformat_minor": 0,
  "metadata": {
    "colab": {
      "name": "preprocessing4.ipynb",
      "provenance": [],
      "mount_file_id": "1kv1I5O_6qqLzq6BDmVxZZfWFZ3K8xOy6",
      "authorship_tag": "ABX9TyOWm+NIuHAjMjtfBv7lvv4H",
      "include_colab_link": true
    },
    "kernelspec": {
      "name": "python3",
      "display_name": "Python 3"
    },
    "language_info": {
      "name": "python"
    }
  },
  "cells": [
    {
      "cell_type": "markdown",
      "metadata": {
        "id": "view-in-github",
        "colab_type": "text"
      },
      "source": [
        "<a href=\"https://colab.research.google.com/github/Sreelatha3/Movie-recommendation-system/blob/main/preprocessing4.ipynb\" target=\"_parent\"><img src=\"https://colab.research.google.com/assets/colab-badge.svg\" alt=\"Open In Colab\"/></a>"
      ]
    },
    {
      "cell_type": "code",
      "metadata": {
        "id": "20wsIdAQNvjG"
      },
      "source": [
        "import pandas as pd\n",
        "import numpy as np\n",
        "import requests\n",
        "import bs4 as bs\n",
        "import urllib.request"
      ],
      "execution_count": null,
      "outputs": []
    },
    {
      "cell_type": "code",
      "metadata": {
        "id": "uS-rBkm5N4ln"
      },
      "source": [
        "link = \"https://en.wikipedia.org/wiki/List_of_American_films_of_2020\""
      ],
      "execution_count": null,
      "outputs": []
    },
    {
      "cell_type": "code",
      "metadata": {
        "id": "shc2jCGaN9WS"
      },
      "source": [
        "source = urllib.request.urlopen(link).read()\n",
        "soup = bs.BeautifulSoup(source,'lxml')"
      ],
      "execution_count": null,
      "outputs": []
    },
    {
      "cell_type": "code",
      "metadata": {
        "id": "Yp8DEI6eN_v0"
      },
      "source": [
        "tables = soup.find_all('table',class_='wikitable sortable')"
      ],
      "execution_count": null,
      "outputs": []
    },
    {
      "cell_type": "code",
      "metadata": {
        "colab": {
          "base_uri": "https://localhost:8080/"
        },
        "id": "ON6ZqkwXOCci",
        "outputId": "dcfb8aa7-f11b-4f61-f475-944582f8887d"
      },
      "source": [
        "len(tables)"
      ],
      "execution_count": null,
      "outputs": [
        {
          "output_type": "execute_result",
          "data": {
            "text/plain": [
              "4"
            ]
          },
          "metadata": {},
          "execution_count": 5
        }
      ]
    },
    {
      "cell_type": "code",
      "metadata": {
        "colab": {
          "base_uri": "https://localhost:8080/"
        },
        "id": "dJrr0KOAOH7O",
        "outputId": "673e4e9d-ba1d-4d7f-d041-de50bbd9cbff"
      },
      "source": [
        "type(tables[0])"
      ],
      "execution_count": null,
      "outputs": [
        {
          "output_type": "execute_result",
          "data": {
            "text/plain": [
              "bs4.element.Tag"
            ]
          },
          "metadata": {},
          "execution_count": 6
        }
      ]
    },
    {
      "cell_type": "code",
      "metadata": {
        "id": "x6zrOrFqOInc"
      },
      "source": [
        "df1 = pd.read_html(str(tables[0]))[0]\n",
        "df2 = pd.read_html(str(tables[1]))[0]\n",
        "df3 = pd.read_html(str(tables[2]))[0]\n",
        "df4 = pd.read_html(str(tables[3]).replace(\"'1\\\"\\'\",'\"1\"'))[0] # avoided \"ValueError: invalid literal for int() with base 10: '1\"'"
      ],
      "execution_count": null,
      "outputs": []
    },
    {
      "cell_type": "code",
      "metadata": {
        "id": "KbM6ChBUOOwv"
      },
      "source": [
        "df = df1.append(df2.append(df3.append(df4,ignore_index=True),ignore_index=True),ignore_index=True)"
      ],
      "execution_count": null,
      "outputs": []
    },
    {
      "cell_type": "code",
      "metadata": {
        "colab": {
          "base_uri": "https://localhost:8080/",
          "height": 750
        },
        "id": "JL2EayQsOTAN",
        "outputId": "141c0f14-f1cf-46be-d598-145a76665a0d"
      },
      "source": [
        "df"
      ],
      "execution_count": null,
      "outputs": [
        {
          "output_type": "execute_result",
          "data": {
            "text/html": [
              "<div>\n",
              "<style scoped>\n",
              "    .dataframe tbody tr th:only-of-type {\n",
              "        vertical-align: middle;\n",
              "    }\n",
              "\n",
              "    .dataframe tbody tr th {\n",
              "        vertical-align: top;\n",
              "    }\n",
              "\n",
              "    .dataframe thead th {\n",
              "        text-align: right;\n",
              "    }\n",
              "</style>\n",
              "<table border=\"1\" class=\"dataframe\">\n",
              "  <thead>\n",
              "    <tr style=\"text-align: right;\">\n",
              "      <th></th>\n",
              "      <th>Opening</th>\n",
              "      <th>Opening.1</th>\n",
              "      <th>Title</th>\n",
              "      <th>Production company</th>\n",
              "      <th>Cast and crew</th>\n",
              "      <th>.mw-parser-output .tooltip-dotted{border-bottom:1px dotted;cursor:help}Ref.</th>\n",
              "      <th>Ref.</th>\n",
              "    </tr>\n",
              "  </thead>\n",
              "  <tbody>\n",
              "    <tr>\n",
              "      <th>0</th>\n",
              "      <td>JANUARY</td>\n",
              "      <td>3</td>\n",
              "      <td>The Grudge</td>\n",
              "      <td>Screen Gems / Stage 6 Films / Ghost House Pict...</td>\n",
              "      <td>Nicolas Pesce (director/screenplay); Andrea Ri...</td>\n",
              "      <td>[2]</td>\n",
              "      <td>NaN</td>\n",
              "    </tr>\n",
              "    <tr>\n",
              "      <th>1</th>\n",
              "      <td>JANUARY</td>\n",
              "      <td>10</td>\n",
              "      <td>Underwater</td>\n",
              "      <td>20th Century Fox / TSG Entertainment / Chernin...</td>\n",
              "      <td>William Eubank (director); Brian Duffield, Ada...</td>\n",
              "      <td>[3]</td>\n",
              "      <td>NaN</td>\n",
              "    </tr>\n",
              "    <tr>\n",
              "      <th>2</th>\n",
              "      <td>JANUARY</td>\n",
              "      <td>10</td>\n",
              "      <td>Like a Boss</td>\n",
              "      <td>Paramount Pictures</td>\n",
              "      <td>Miguel Arteta (director); Sam Pitman, Adam Col...</td>\n",
              "      <td>[4]</td>\n",
              "      <td>NaN</td>\n",
              "    </tr>\n",
              "    <tr>\n",
              "      <th>3</th>\n",
              "      <td>JANUARY</td>\n",
              "      <td>10</td>\n",
              "      <td>Three Christs</td>\n",
              "      <td>IFC Films</td>\n",
              "      <td>Jon Avnet (director/screenplay); Eric Nazarian...</td>\n",
              "      <td>NaN</td>\n",
              "      <td>NaN</td>\n",
              "    </tr>\n",
              "    <tr>\n",
              "      <th>4</th>\n",
              "      <td>JANUARY</td>\n",
              "      <td>10</td>\n",
              "      <td>Inherit the Viper</td>\n",
              "      <td>Barry Films / Tycor International Film Company</td>\n",
              "      <td>Anthony Jerjen (director); Andrew Crabtree (sc...</td>\n",
              "      <td>[5]</td>\n",
              "      <td>NaN</td>\n",
              "    </tr>\n",
              "    <tr>\n",
              "      <th>...</th>\n",
              "      <td>...</td>\n",
              "      <td>...</td>\n",
              "      <td>...</td>\n",
              "      <td>...</td>\n",
              "      <td>...</td>\n",
              "      <td>...</td>\n",
              "      <td>...</td>\n",
              "    </tr>\n",
              "    <tr>\n",
              "      <th>268</th>\n",
              "      <td>DECEMBER</td>\n",
              "      <td>25</td>\n",
              "      <td>We Can Be Heroes</td>\n",
              "      <td>Netflix / Troublemaker Studios</td>\n",
              "      <td>Robert Rodriguez (director/screenplay); Priyan...</td>\n",
              "      <td>NaN</td>\n",
              "      <td>[241]</td>\n",
              "    </tr>\n",
              "    <tr>\n",
              "      <th>269</th>\n",
              "      <td>DECEMBER</td>\n",
              "      <td>25</td>\n",
              "      <td>News of the World</td>\n",
              "      <td>Universal Pictures / Perfect World Pictures</td>\n",
              "      <td>Paul Greengrass (director/screenplay); Luke Da...</td>\n",
              "      <td>NaN</td>\n",
              "      <td>[242]</td>\n",
              "    </tr>\n",
              "    <tr>\n",
              "      <th>270</th>\n",
              "      <td>DECEMBER</td>\n",
              "      <td>25</td>\n",
              "      <td>One Night in Miami...</td>\n",
              "      <td>Amazon Studios</td>\n",
              "      <td>Regina King (director); Kemp Powers (screenpla...</td>\n",
              "      <td>NaN</td>\n",
              "      <td>[243]</td>\n",
              "    </tr>\n",
              "    <tr>\n",
              "      <th>271</th>\n",
              "      <td>DECEMBER</td>\n",
              "      <td>25</td>\n",
              "      <td>Promising Young Woman</td>\n",
              "      <td>Focus Features / FilmNation Entertainment</td>\n",
              "      <td>Emerald Fennell (director/screenplay); Carey M...</td>\n",
              "      <td>NaN</td>\n",
              "      <td>[244]</td>\n",
              "    </tr>\n",
              "    <tr>\n",
              "      <th>272</th>\n",
              "      <td>DECEMBER</td>\n",
              "      <td>30</td>\n",
              "      <td>Pieces of a Woman</td>\n",
              "      <td>Netflix / Bron Studios</td>\n",
              "      <td>Kornél Mundruczó (director); Kata Wéber (scree...</td>\n",
              "      <td>NaN</td>\n",
              "      <td>[245]</td>\n",
              "    </tr>\n",
              "  </tbody>\n",
              "</table>\n",
              "<p>273 rows × 7 columns</p>\n",
              "</div>"
            ],
            "text/plain": [
              "      Opening  ...   Ref.\n",
              "0     JANUARY  ...    NaN\n",
              "1     JANUARY  ...    NaN\n",
              "2     JANUARY  ...    NaN\n",
              "3     JANUARY  ...    NaN\n",
              "4     JANUARY  ...    NaN\n",
              "..        ...  ...    ...\n",
              "268  DECEMBER  ...  [241]\n",
              "269  DECEMBER  ...  [242]\n",
              "270  DECEMBER  ...  [243]\n",
              "271  DECEMBER  ...  [244]\n",
              "272  DECEMBER  ...  [245]\n",
              "\n",
              "[273 rows x 7 columns]"
            ]
          },
          "metadata": {},
          "execution_count": 9
        }
      ]
    },
    {
      "cell_type": "code",
      "metadata": {
        "id": "rwVJW2VJOVCH"
      },
      "source": [
        "\n",
        "df_2020 = df[['Title','Cast and crew']]"
      ],
      "execution_count": null,
      "outputs": []
    },
    {
      "cell_type": "code",
      "metadata": {
        "colab": {
          "base_uri": "https://localhost:8080/",
          "height": 415
        },
        "id": "v3lAnDjKOYOY",
        "outputId": "22868c01-9fcb-42d9-9bc3-d29c64ffcddd"
      },
      "source": [
        "df_2020"
      ],
      "execution_count": null,
      "outputs": [
        {
          "output_type": "execute_result",
          "data": {
            "text/html": [
              "<div>\n",
              "<style scoped>\n",
              "    .dataframe tbody tr th:only-of-type {\n",
              "        vertical-align: middle;\n",
              "    }\n",
              "\n",
              "    .dataframe tbody tr th {\n",
              "        vertical-align: top;\n",
              "    }\n",
              "\n",
              "    .dataframe thead th {\n",
              "        text-align: right;\n",
              "    }\n",
              "</style>\n",
              "<table border=\"1\" class=\"dataframe\">\n",
              "  <thead>\n",
              "    <tr style=\"text-align: right;\">\n",
              "      <th></th>\n",
              "      <th>Title</th>\n",
              "      <th>Cast and crew</th>\n",
              "    </tr>\n",
              "  </thead>\n",
              "  <tbody>\n",
              "    <tr>\n",
              "      <th>0</th>\n",
              "      <td>The Grudge</td>\n",
              "      <td>Nicolas Pesce (director/screenplay); Andrea Ri...</td>\n",
              "    </tr>\n",
              "    <tr>\n",
              "      <th>1</th>\n",
              "      <td>Underwater</td>\n",
              "      <td>William Eubank (director); Brian Duffield, Ada...</td>\n",
              "    </tr>\n",
              "    <tr>\n",
              "      <th>2</th>\n",
              "      <td>Like a Boss</td>\n",
              "      <td>Miguel Arteta (director); Sam Pitman, Adam Col...</td>\n",
              "    </tr>\n",
              "    <tr>\n",
              "      <th>3</th>\n",
              "      <td>Three Christs</td>\n",
              "      <td>Jon Avnet (director/screenplay); Eric Nazarian...</td>\n",
              "    </tr>\n",
              "    <tr>\n",
              "      <th>4</th>\n",
              "      <td>Inherit the Viper</td>\n",
              "      <td>Anthony Jerjen (director); Andrew Crabtree (sc...</td>\n",
              "    </tr>\n",
              "    <tr>\n",
              "      <th>...</th>\n",
              "      <td>...</td>\n",
              "      <td>...</td>\n",
              "    </tr>\n",
              "    <tr>\n",
              "      <th>268</th>\n",
              "      <td>We Can Be Heroes</td>\n",
              "      <td>Robert Rodriguez (director/screenplay); Priyan...</td>\n",
              "    </tr>\n",
              "    <tr>\n",
              "      <th>269</th>\n",
              "      <td>News of the World</td>\n",
              "      <td>Paul Greengrass (director/screenplay); Luke Da...</td>\n",
              "    </tr>\n",
              "    <tr>\n",
              "      <th>270</th>\n",
              "      <td>One Night in Miami...</td>\n",
              "      <td>Regina King (director); Kemp Powers (screenpla...</td>\n",
              "    </tr>\n",
              "    <tr>\n",
              "      <th>271</th>\n",
              "      <td>Promising Young Woman</td>\n",
              "      <td>Emerald Fennell (director/screenplay); Carey M...</td>\n",
              "    </tr>\n",
              "    <tr>\n",
              "      <th>272</th>\n",
              "      <td>Pieces of a Woman</td>\n",
              "      <td>Kornél Mundruczó (director); Kata Wéber (scree...</td>\n",
              "    </tr>\n",
              "  </tbody>\n",
              "</table>\n",
              "<p>273 rows × 2 columns</p>\n",
              "</div>"
            ],
            "text/plain": [
              "                     Title                                      Cast and crew\n",
              "0               The Grudge  Nicolas Pesce (director/screenplay); Andrea Ri...\n",
              "1               Underwater  William Eubank (director); Brian Duffield, Ada...\n",
              "2              Like a Boss  Miguel Arteta (director); Sam Pitman, Adam Col...\n",
              "3            Three Christs  Jon Avnet (director/screenplay); Eric Nazarian...\n",
              "4        Inherit the Viper  Anthony Jerjen (director); Andrew Crabtree (sc...\n",
              "..                     ...                                                ...\n",
              "268       We Can Be Heroes  Robert Rodriguez (director/screenplay); Priyan...\n",
              "269      News of the World  Paul Greengrass (director/screenplay); Luke Da...\n",
              "270  One Night in Miami...  Regina King (director); Kemp Powers (screenpla...\n",
              "271  Promising Young Woman  Emerald Fennell (director/screenplay); Carey M...\n",
              "272      Pieces of a Woman  Kornél Mundruczó (director); Kata Wéber (scree...\n",
              "\n",
              "[273 rows x 2 columns]"
            ]
          },
          "metadata": {},
          "execution_count": 11
        }
      ]
    },
    {
      "cell_type": "code",
      "metadata": {
        "colab": {
          "base_uri": "https://localhost:8080/"
        },
        "id": "gdu6GNR4Oe04",
        "outputId": "1300973e-70a1-4399-9356-0afbe11ea17b"
      },
      "source": [
        "!pip install tmdbv3api\n",
        "from tmdbv3api import TMDb\n",
        "import json\n",
        "import requests\n",
        "tmdb = TMDb()\n",
        "tmdb.api_key = 'da88f163476f898272787e478513ebba'"
      ],
      "execution_count": null,
      "outputs": [
        {
          "output_type": "stream",
          "name": "stdout",
          "text": [
            "Collecting tmdbv3api\n",
            "  Downloading tmdbv3api-1.7.6-py2.py3-none-any.whl (17 kB)\n",
            "Requirement already satisfied: requests in /usr/local/lib/python3.7/dist-packages (from tmdbv3api) (2.23.0)\n",
            "Requirement already satisfied: urllib3!=1.25.0,!=1.25.1,<1.26,>=1.21.1 in /usr/local/lib/python3.7/dist-packages (from requests->tmdbv3api) (1.24.3)\n",
            "Requirement already satisfied: chardet<4,>=3.0.2 in /usr/local/lib/python3.7/dist-packages (from requests->tmdbv3api) (3.0.4)\n",
            "Requirement already satisfied: idna<3,>=2.5 in /usr/local/lib/python3.7/dist-packages (from requests->tmdbv3api) (2.10)\n",
            "Requirement already satisfied: certifi>=2017.4.17 in /usr/local/lib/python3.7/dist-packages (from requests->tmdbv3api) (2021.5.30)\n",
            "Installing collected packages: tmdbv3api\n",
            "Successfully installed tmdbv3api-1.7.6\n"
          ]
        }
      ]
    },
    {
      "cell_type": "code",
      "metadata": {
        "id": "rQe2KEu5PWYZ"
      },
      "source": [
        "from tmdbv3api import Movie\n",
        "tmdb_movie = Movie() \n",
        "def get_genre(x):\n",
        "    genres = []\n",
        "    result = tmdb_movie.search(x)\n",
        "    if not result:\n",
        "      return np.NaN\n",
        "    else:\n",
        "      movie_id = result[0].id\n",
        "      response = requests.get('https://api.themoviedb.org/3/movie/{}?api_key={}'.format(movie_id,tmdb.api_key))\n",
        "      data_json = response.json()\n",
        "      if data_json['genres']:\n",
        "          genre_str = \" \" \n",
        "          for i in range(0,len(data_json['genres'])):\n",
        "              genres.append(data_json['genres'][i]['name'])\n",
        "          return genre_str.join(genres)\n",
        "      else:\n",
        "          return np.NaN"
      ],
      "execution_count": null,
      "outputs": []
    },
    {
      "cell_type": "code",
      "metadata": {
        "colab": {
          "base_uri": "https://localhost:8080/"
        },
        "id": "5eYoqJpYPbBf",
        "outputId": "2bf7c228-1419-48f9-a074-0a41f9e28b17"
      },
      "source": [
        "df_2020['genres'] = df_2020['Title'].map(lambda x: get_genre(str(x)))"
      ],
      "execution_count": null,
      "outputs": [
        {
          "output_type": "stream",
          "name": "stderr",
          "text": [
            "/usr/local/lib/python3.7/dist-packages/ipykernel_launcher.py:1: SettingWithCopyWarning: \n",
            "A value is trying to be set on a copy of a slice from a DataFrame.\n",
            "Try using .loc[row_indexer,col_indexer] = value instead\n",
            "\n",
            "See the caveats in the documentation: https://pandas.pydata.org/pandas-docs/stable/user_guide/indexing.html#returning-a-view-versus-a-copy\n",
            "  \"\"\"Entry point for launching an IPython kernel.\n"
          ]
        }
      ]
    },
    {
      "cell_type": "code",
      "metadata": {
        "colab": {
          "base_uri": "https://localhost:8080/",
          "height": 415
        },
        "id": "aimsLyIuPeKD",
        "outputId": "b0a338f4-679c-48ad-bd96-aeaa1a3f16d0"
      },
      "source": [
        "df_2020"
      ],
      "execution_count": null,
      "outputs": [
        {
          "output_type": "execute_result",
          "data": {
            "text/html": [
              "<div>\n",
              "<style scoped>\n",
              "    .dataframe tbody tr th:only-of-type {\n",
              "        vertical-align: middle;\n",
              "    }\n",
              "\n",
              "    .dataframe tbody tr th {\n",
              "        vertical-align: top;\n",
              "    }\n",
              "\n",
              "    .dataframe thead th {\n",
              "        text-align: right;\n",
              "    }\n",
              "</style>\n",
              "<table border=\"1\" class=\"dataframe\">\n",
              "  <thead>\n",
              "    <tr style=\"text-align: right;\">\n",
              "      <th></th>\n",
              "      <th>Title</th>\n",
              "      <th>Cast and crew</th>\n",
              "      <th>genres</th>\n",
              "    </tr>\n",
              "  </thead>\n",
              "  <tbody>\n",
              "    <tr>\n",
              "      <th>0</th>\n",
              "      <td>The Grudge</td>\n",
              "      <td>Nicolas Pesce (director/screenplay); Andrea Ri...</td>\n",
              "      <td>Horror Mystery Thriller</td>\n",
              "    </tr>\n",
              "    <tr>\n",
              "      <th>1</th>\n",
              "      <td>Underwater</td>\n",
              "      <td>William Eubank (director); Brian Duffield, Ada...</td>\n",
              "      <td>Action Horror Science Fiction Thriller</td>\n",
              "    </tr>\n",
              "    <tr>\n",
              "      <th>2</th>\n",
              "      <td>Like a Boss</td>\n",
              "      <td>Miguel Arteta (director); Sam Pitman, Adam Col...</td>\n",
              "      <td>Comedy</td>\n",
              "    </tr>\n",
              "    <tr>\n",
              "      <th>3</th>\n",
              "      <td>Three Christs</td>\n",
              "      <td>Jon Avnet (director/screenplay); Eric Nazarian...</td>\n",
              "      <td>Drama</td>\n",
              "    </tr>\n",
              "    <tr>\n",
              "      <th>4</th>\n",
              "      <td>Inherit the Viper</td>\n",
              "      <td>Anthony Jerjen (director); Andrew Crabtree (sc...</td>\n",
              "      <td>Crime Thriller Drama</td>\n",
              "    </tr>\n",
              "    <tr>\n",
              "      <th>...</th>\n",
              "      <td>...</td>\n",
              "      <td>...</td>\n",
              "      <td>...</td>\n",
              "    </tr>\n",
              "    <tr>\n",
              "      <th>268</th>\n",
              "      <td>We Can Be Heroes</td>\n",
              "      <td>Robert Rodriguez (director/screenplay); Priyan...</td>\n",
              "      <td>Action Fantasy Family Comedy</td>\n",
              "    </tr>\n",
              "    <tr>\n",
              "      <th>269</th>\n",
              "      <td>News of the World</td>\n",
              "      <td>Paul Greengrass (director/screenplay); Luke Da...</td>\n",
              "      <td>Adventure Western</td>\n",
              "    </tr>\n",
              "    <tr>\n",
              "      <th>270</th>\n",
              "      <td>One Night in Miami...</td>\n",
              "      <td>Regina King (director); Kemp Powers (screenpla...</td>\n",
              "      <td>Drama</td>\n",
              "    </tr>\n",
              "    <tr>\n",
              "      <th>271</th>\n",
              "      <td>Promising Young Woman</td>\n",
              "      <td>Emerald Fennell (director/screenplay); Carey M...</td>\n",
              "      <td>Thriller Crime Drama</td>\n",
              "    </tr>\n",
              "    <tr>\n",
              "      <th>272</th>\n",
              "      <td>Pieces of a Woman</td>\n",
              "      <td>Kornél Mundruczó (director); Kata Wéber (scree...</td>\n",
              "      <td>Drama</td>\n",
              "    </tr>\n",
              "  </tbody>\n",
              "</table>\n",
              "<p>273 rows × 3 columns</p>\n",
              "</div>"
            ],
            "text/plain": [
              "                     Title  ...                                  genres\n",
              "0               The Grudge  ...                 Horror Mystery Thriller\n",
              "1               Underwater  ...  Action Horror Science Fiction Thriller\n",
              "2              Like a Boss  ...                                  Comedy\n",
              "3            Three Christs  ...                                   Drama\n",
              "4        Inherit the Viper  ...                    Crime Thriller Drama\n",
              "..                     ...  ...                                     ...\n",
              "268       We Can Be Heroes  ...            Action Fantasy Family Comedy\n",
              "269      News of the World  ...                       Adventure Western\n",
              "270  One Night in Miami...  ...                                   Drama\n",
              "271  Promising Young Woman  ...                    Thriller Crime Drama\n",
              "272      Pieces of a Woman  ...                                   Drama\n",
              "\n",
              "[273 rows x 3 columns]"
            ]
          },
          "metadata": {},
          "execution_count": 15
        }
      ]
    },
    {
      "cell_type": "code",
      "metadata": {
        "id": "i5VyHFzAPgsu"
      },
      "source": [
        "def get_director(x):\n",
        "    if \" (director)\" in x:\n",
        "        return x.split(\" (director)\")[0]\n",
        "    elif \" (directors)\" in x:\n",
        "        return x.split(\" (directors)\")[0]\n",
        "    else:\n",
        "        return x.split(\" (director/screenplay)\")[0]"
      ],
      "execution_count": null,
      "outputs": []
    },
    {
      "cell_type": "code",
      "metadata": {
        "colab": {
          "base_uri": "https://localhost:8080/"
        },
        "id": "vddhf4FSPhIY",
        "outputId": "3915b050-ce89-4f75-dcc5-ccc088378a11"
      },
      "source": [
        "df_2020['director_name'] = df_2020['Cast and crew'].map(lambda x: get_director(str(x)))"
      ],
      "execution_count": null,
      "outputs": [
        {
          "output_type": "stream",
          "name": "stderr",
          "text": [
            "/usr/local/lib/python3.7/dist-packages/ipykernel_launcher.py:1: SettingWithCopyWarning: \n",
            "A value is trying to be set on a copy of a slice from a DataFrame.\n",
            "Try using .loc[row_indexer,col_indexer] = value instead\n",
            "\n",
            "See the caveats in the documentation: https://pandas.pydata.org/pandas-docs/stable/user_guide/indexing.html#returning-a-view-versus-a-copy\n",
            "  \"\"\"Entry point for launching an IPython kernel.\n"
          ]
        }
      ]
    },
    {
      "cell_type": "code",
      "metadata": {
        "id": "W2qbJpSxPq5i"
      },
      "source": [
        "def get_actor1(x):\n",
        "    return ((x.split(\"screenplay); \")[-1]).split(\", \")[0])"
      ],
      "execution_count": null,
      "outputs": []
    },
    {
      "cell_type": "code",
      "metadata": {
        "colab": {
          "base_uri": "https://localhost:8080/"
        },
        "id": "-pZ0TsJ2PvU5",
        "outputId": "0b7225f6-b809-4d9f-d7a6-be5b2a1a55a2"
      },
      "source": [
        "df_2020['actor_1_name'] = df_2020['Cast and crew'].map(lambda x: get_actor1(str(x)))\n"
      ],
      "execution_count": null,
      "outputs": [
        {
          "output_type": "stream",
          "name": "stderr",
          "text": [
            "/usr/local/lib/python3.7/dist-packages/ipykernel_launcher.py:1: SettingWithCopyWarning: \n",
            "A value is trying to be set on a copy of a slice from a DataFrame.\n",
            "Try using .loc[row_indexer,col_indexer] = value instead\n",
            "\n",
            "See the caveats in the documentation: https://pandas.pydata.org/pandas-docs/stable/user_guide/indexing.html#returning-a-view-versus-a-copy\n",
            "  \"\"\"Entry point for launching an IPython kernel.\n"
          ]
        }
      ]
    },
    {
      "cell_type": "code",
      "metadata": {
        "id": "qRAawPbVPz9J"
      },
      "source": [
        "def get_actor2(x):\n",
        "    if len((x.split(\"screenplay); \")[-1]).split(\", \")) < 2:\n",
        "        return np.NaN\n",
        "    else:\n",
        "        return ((x.split(\"screenplay); \")[-1]).split(\", \")[1])"
      ],
      "execution_count": null,
      "outputs": []
    },
    {
      "cell_type": "code",
      "metadata": {
        "colab": {
          "base_uri": "https://localhost:8080/"
        },
        "id": "xJXax-xuP3KD",
        "outputId": "4fbe9868-94c7-4bb7-93a5-e67bfe4b8393"
      },
      "source": [
        "df_2020['actor_2_name'] = df_2020['Cast and crew'].map(lambda x: get_actor2(str(x)))"
      ],
      "execution_count": null,
      "outputs": [
        {
          "output_type": "stream",
          "name": "stderr",
          "text": [
            "/usr/local/lib/python3.7/dist-packages/ipykernel_launcher.py:1: SettingWithCopyWarning: \n",
            "A value is trying to be set on a copy of a slice from a DataFrame.\n",
            "Try using .loc[row_indexer,col_indexer] = value instead\n",
            "\n",
            "See the caveats in the documentation: https://pandas.pydata.org/pandas-docs/stable/user_guide/indexing.html#returning-a-view-versus-a-copy\n",
            "  \"\"\"Entry point for launching an IPython kernel.\n"
          ]
        }
      ]
    },
    {
      "cell_type": "code",
      "metadata": {
        "id": "4RBOwnFsP6UG"
      },
      "source": [
        "def get_actor3(x):\n",
        "    if len((x.split(\"screenplay); \")[-1]).split(\", \")) < 3:\n",
        "        return np.NaN\n",
        "    else:\n",
        "        return ((x.split(\"screenplay); \")[-1]).split(\", \")[2])"
      ],
      "execution_count": null,
      "outputs": []
    },
    {
      "cell_type": "code",
      "metadata": {
        "id": "7ZdbZXwpQGsa"
      },
      "source": [
        "\n",
        "df_2020['actor_3_name'] = df_2020['Cast and crew'].map(lambda x: get_actor3(str(x)))"
      ],
      "execution_count": null,
      "outputs": []
    },
    {
      "cell_type": "code",
      "metadata": {
        "colab": {
          "base_uri": "https://localhost:8080/",
          "height": 649
        },
        "id": "nkQRLejSQO_U",
        "outputId": "eb4709b9-2a9b-483a-ebb5-84aea6731755"
      },
      "source": [
        "df_2020"
      ],
      "execution_count": null,
      "outputs": [
        {
          "output_type": "execute_result",
          "data": {
            "text/html": [
              "<div>\n",
              "<style scoped>\n",
              "    .dataframe tbody tr th:only-of-type {\n",
              "        vertical-align: middle;\n",
              "    }\n",
              "\n",
              "    .dataframe tbody tr th {\n",
              "        vertical-align: top;\n",
              "    }\n",
              "\n",
              "    .dataframe thead th {\n",
              "        text-align: right;\n",
              "    }\n",
              "</style>\n",
              "<table border=\"1\" class=\"dataframe\">\n",
              "  <thead>\n",
              "    <tr style=\"text-align: right;\">\n",
              "      <th></th>\n",
              "      <th>Title</th>\n",
              "      <th>Cast and crew</th>\n",
              "      <th>genres</th>\n",
              "      <th>director_name</th>\n",
              "      <th>actor_1_name</th>\n",
              "      <th>actor_2_name</th>\n",
              "      <th>actor_3_name</th>\n",
              "    </tr>\n",
              "  </thead>\n",
              "  <tbody>\n",
              "    <tr>\n",
              "      <th>0</th>\n",
              "      <td>The Grudge</td>\n",
              "      <td>Nicolas Pesce (director/screenplay); Andrea Ri...</td>\n",
              "      <td>Horror Mystery Thriller</td>\n",
              "      <td>Nicolas Pesce</td>\n",
              "      <td>Andrea Riseborough</td>\n",
              "      <td>Demián Bichir</td>\n",
              "      <td>John Cho</td>\n",
              "    </tr>\n",
              "    <tr>\n",
              "      <th>1</th>\n",
              "      <td>Underwater</td>\n",
              "      <td>William Eubank (director); Brian Duffield, Ada...</td>\n",
              "      <td>Action Horror Science Fiction Thriller</td>\n",
              "      <td>William Eubank</td>\n",
              "      <td>Kristen Stewart</td>\n",
              "      <td>Vincent Cassel</td>\n",
              "      <td>Jessica Henwick</td>\n",
              "    </tr>\n",
              "    <tr>\n",
              "      <th>2</th>\n",
              "      <td>Like a Boss</td>\n",
              "      <td>Miguel Arteta (director); Sam Pitman, Adam Col...</td>\n",
              "      <td>Comedy</td>\n",
              "      <td>Miguel Arteta</td>\n",
              "      <td>Tiffany Haddish</td>\n",
              "      <td>Rose Byrne</td>\n",
              "      <td>Salma Hayek</td>\n",
              "    </tr>\n",
              "    <tr>\n",
              "      <th>3</th>\n",
              "      <td>Three Christs</td>\n",
              "      <td>Jon Avnet (director/screenplay); Eric Nazarian...</td>\n",
              "      <td>Drama</td>\n",
              "      <td>Jon Avnet</td>\n",
              "      <td>Richard Gere</td>\n",
              "      <td>Peter Dinklage</td>\n",
              "      <td>Walton Goggins</td>\n",
              "    </tr>\n",
              "    <tr>\n",
              "      <th>4</th>\n",
              "      <td>Inherit the Viper</td>\n",
              "      <td>Anthony Jerjen (director); Andrew Crabtree (sc...</td>\n",
              "      <td>Crime Thriller Drama</td>\n",
              "      <td>Anthony Jerjen</td>\n",
              "      <td>Josh Hartnett</td>\n",
              "      <td>Margarita Levieva</td>\n",
              "      <td>Chandler Riggs</td>\n",
              "    </tr>\n",
              "    <tr>\n",
              "      <th>...</th>\n",
              "      <td>...</td>\n",
              "      <td>...</td>\n",
              "      <td>...</td>\n",
              "      <td>...</td>\n",
              "      <td>...</td>\n",
              "      <td>...</td>\n",
              "      <td>...</td>\n",
              "    </tr>\n",
              "    <tr>\n",
              "      <th>268</th>\n",
              "      <td>We Can Be Heroes</td>\n",
              "      <td>Robert Rodriguez (director/screenplay); Priyan...</td>\n",
              "      <td>Action Fantasy Family Comedy</td>\n",
              "      <td>Robert Rodriguez</td>\n",
              "      <td>Priyanka Chopra Jonas</td>\n",
              "      <td>Pedro Pascal</td>\n",
              "      <td>YaYa Gosselin</td>\n",
              "    </tr>\n",
              "    <tr>\n",
              "      <th>269</th>\n",
              "      <td>News of the World</td>\n",
              "      <td>Paul Greengrass (director/screenplay); Luke Da...</td>\n",
              "      <td>Adventure Western</td>\n",
              "      <td>Paul Greengrass</td>\n",
              "      <td>Tom Hanks</td>\n",
              "      <td>Helena Zengel</td>\n",
              "      <td>NaN</td>\n",
              "    </tr>\n",
              "    <tr>\n",
              "      <th>270</th>\n",
              "      <td>One Night in Miami...</td>\n",
              "      <td>Regina King (director); Kemp Powers (screenpla...</td>\n",
              "      <td>Drama</td>\n",
              "      <td>Regina King</td>\n",
              "      <td>Kingsley Ben-Adir</td>\n",
              "      <td>Eli Goree</td>\n",
              "      <td>Aldis Hodge</td>\n",
              "    </tr>\n",
              "    <tr>\n",
              "      <th>271</th>\n",
              "      <td>Promising Young Woman</td>\n",
              "      <td>Emerald Fennell (director/screenplay); Carey M...</td>\n",
              "      <td>Thriller Crime Drama</td>\n",
              "      <td>Emerald Fennell</td>\n",
              "      <td>Carey Mulligan</td>\n",
              "      <td>Bo Burnham</td>\n",
              "      <td>Alison Brie</td>\n",
              "    </tr>\n",
              "    <tr>\n",
              "      <th>272</th>\n",
              "      <td>Pieces of a Woman</td>\n",
              "      <td>Kornél Mundruczó (director); Kata Wéber (scree...</td>\n",
              "      <td>Drama</td>\n",
              "      <td>Kornél Mundruczó</td>\n",
              "      <td>Vanessa Kirby</td>\n",
              "      <td>Shia LaBeouf</td>\n",
              "      <td>Molly Parker</td>\n",
              "    </tr>\n",
              "  </tbody>\n",
              "</table>\n",
              "<p>273 rows × 7 columns</p>\n",
              "</div>"
            ],
            "text/plain": [
              "                     Title  ...     actor_3_name\n",
              "0               The Grudge  ...         John Cho\n",
              "1               Underwater  ...  Jessica Henwick\n",
              "2              Like a Boss  ...      Salma Hayek\n",
              "3            Three Christs  ...   Walton Goggins\n",
              "4        Inherit the Viper  ...   Chandler Riggs\n",
              "..                     ...  ...              ...\n",
              "268       We Can Be Heroes  ...    YaYa Gosselin\n",
              "269      News of the World  ...              NaN\n",
              "270  One Night in Miami...  ...      Aldis Hodge\n",
              "271  Promising Young Woman  ...      Alison Brie\n",
              "272      Pieces of a Woman  ...     Molly Parker\n",
              "\n",
              "[273 rows x 7 columns]"
            ]
          },
          "metadata": {},
          "execution_count": 24
        }
      ]
    },
    {
      "cell_type": "code",
      "metadata": {
        "id": "1ofSMwegQUdx"
      },
      "source": [
        "\n",
        "\n",
        "df_2020 = df_2020.rename(columns={'Title':'movie_title'})"
      ],
      "execution_count": null,
      "outputs": []
    },
    {
      "cell_type": "code",
      "metadata": {
        "id": "AY2btC1XQcHK"
      },
      "source": [
        "new_df20 = df_2020.loc[:,['director_name','actor_1_name','actor_2_name','actor_3_name','genres','movie_title']]"
      ],
      "execution_count": null,
      "outputs": []
    },
    {
      "cell_type": "code",
      "metadata": {
        "colab": {
          "base_uri": "https://localhost:8080/",
          "height": 499
        },
        "id": "4clF1kEaQ4-I",
        "outputId": "fe6ae7f8-89ec-4e91-b216-9edf1f1b9d24"
      },
      "source": [
        "new_df20"
      ],
      "execution_count": null,
      "outputs": [
        {
          "output_type": "execute_result",
          "data": {
            "text/html": [
              "<div>\n",
              "<style scoped>\n",
              "    .dataframe tbody tr th:only-of-type {\n",
              "        vertical-align: middle;\n",
              "    }\n",
              "\n",
              "    .dataframe tbody tr th {\n",
              "        vertical-align: top;\n",
              "    }\n",
              "\n",
              "    .dataframe thead th {\n",
              "        text-align: right;\n",
              "    }\n",
              "</style>\n",
              "<table border=\"1\" class=\"dataframe\">\n",
              "  <thead>\n",
              "    <tr style=\"text-align: right;\">\n",
              "      <th></th>\n",
              "      <th>director_name</th>\n",
              "      <th>actor_1_name</th>\n",
              "      <th>actor_2_name</th>\n",
              "      <th>actor_3_name</th>\n",
              "      <th>genres</th>\n",
              "      <th>movie_title</th>\n",
              "    </tr>\n",
              "  </thead>\n",
              "  <tbody>\n",
              "    <tr>\n",
              "      <th>0</th>\n",
              "      <td>Nicolas Pesce</td>\n",
              "      <td>Andrea Riseborough</td>\n",
              "      <td>Demián Bichir</td>\n",
              "      <td>John Cho</td>\n",
              "      <td>Horror Mystery Thriller</td>\n",
              "      <td>The Grudge</td>\n",
              "    </tr>\n",
              "    <tr>\n",
              "      <th>1</th>\n",
              "      <td>William Eubank</td>\n",
              "      <td>Kristen Stewart</td>\n",
              "      <td>Vincent Cassel</td>\n",
              "      <td>Jessica Henwick</td>\n",
              "      <td>Action Horror Science Fiction Thriller</td>\n",
              "      <td>Underwater</td>\n",
              "    </tr>\n",
              "    <tr>\n",
              "      <th>2</th>\n",
              "      <td>Miguel Arteta</td>\n",
              "      <td>Tiffany Haddish</td>\n",
              "      <td>Rose Byrne</td>\n",
              "      <td>Salma Hayek</td>\n",
              "      <td>Comedy</td>\n",
              "      <td>Like a Boss</td>\n",
              "    </tr>\n",
              "    <tr>\n",
              "      <th>3</th>\n",
              "      <td>Jon Avnet</td>\n",
              "      <td>Richard Gere</td>\n",
              "      <td>Peter Dinklage</td>\n",
              "      <td>Walton Goggins</td>\n",
              "      <td>Drama</td>\n",
              "      <td>Three Christs</td>\n",
              "    </tr>\n",
              "    <tr>\n",
              "      <th>4</th>\n",
              "      <td>Anthony Jerjen</td>\n",
              "      <td>Josh Hartnett</td>\n",
              "      <td>Margarita Levieva</td>\n",
              "      <td>Chandler Riggs</td>\n",
              "      <td>Crime Thriller Drama</td>\n",
              "      <td>Inherit the Viper</td>\n",
              "    </tr>\n",
              "    <tr>\n",
              "      <th>...</th>\n",
              "      <td>...</td>\n",
              "      <td>...</td>\n",
              "      <td>...</td>\n",
              "      <td>...</td>\n",
              "      <td>...</td>\n",
              "      <td>...</td>\n",
              "    </tr>\n",
              "    <tr>\n",
              "      <th>268</th>\n",
              "      <td>Robert Rodriguez</td>\n",
              "      <td>Priyanka Chopra Jonas</td>\n",
              "      <td>Pedro Pascal</td>\n",
              "      <td>YaYa Gosselin</td>\n",
              "      <td>Action Fantasy Family Comedy</td>\n",
              "      <td>We Can Be Heroes</td>\n",
              "    </tr>\n",
              "    <tr>\n",
              "      <th>269</th>\n",
              "      <td>Paul Greengrass</td>\n",
              "      <td>Tom Hanks</td>\n",
              "      <td>Helena Zengel</td>\n",
              "      <td>NaN</td>\n",
              "      <td>Adventure Western</td>\n",
              "      <td>News of the World</td>\n",
              "    </tr>\n",
              "    <tr>\n",
              "      <th>270</th>\n",
              "      <td>Regina King</td>\n",
              "      <td>Kingsley Ben-Adir</td>\n",
              "      <td>Eli Goree</td>\n",
              "      <td>Aldis Hodge</td>\n",
              "      <td>Drama</td>\n",
              "      <td>One Night in Miami...</td>\n",
              "    </tr>\n",
              "    <tr>\n",
              "      <th>271</th>\n",
              "      <td>Emerald Fennell</td>\n",
              "      <td>Carey Mulligan</td>\n",
              "      <td>Bo Burnham</td>\n",
              "      <td>Alison Brie</td>\n",
              "      <td>Thriller Crime Drama</td>\n",
              "      <td>Promising Young Woman</td>\n",
              "    </tr>\n",
              "    <tr>\n",
              "      <th>272</th>\n",
              "      <td>Kornél Mundruczó</td>\n",
              "      <td>Vanessa Kirby</td>\n",
              "      <td>Shia LaBeouf</td>\n",
              "      <td>Molly Parker</td>\n",
              "      <td>Drama</td>\n",
              "      <td>Pieces of a Woman</td>\n",
              "    </tr>\n",
              "  </tbody>\n",
              "</table>\n",
              "<p>273 rows × 6 columns</p>\n",
              "</div>"
            ],
            "text/plain": [
              "        director_name  ...            movie_title\n",
              "0       Nicolas Pesce  ...             The Grudge\n",
              "1      William Eubank  ...             Underwater\n",
              "2       Miguel Arteta  ...            Like a Boss\n",
              "3           Jon Avnet  ...          Three Christs\n",
              "4      Anthony Jerjen  ...      Inherit the Viper\n",
              "..                ...  ...                    ...\n",
              "268  Robert Rodriguez  ...       We Can Be Heroes\n",
              "269   Paul Greengrass  ...      News of the World\n",
              "270       Regina King  ...  One Night in Miami...\n",
              "271   Emerald Fennell  ...  Promising Young Woman\n",
              "272  Kornél Mundruczó  ...      Pieces of a Woman\n",
              "\n",
              "[273 rows x 6 columns]"
            ]
          },
          "metadata": {},
          "execution_count": 27
        }
      ]
    },
    {
      "cell_type": "code",
      "metadata": {
        "id": "ynW30KUuRAXV"
      },
      "source": [
        "new_df20['comb'] = new_df20['actor_1_name'] + ' ' + new_df20['actor_2_name'] + ' '+ new_df20['actor_3_name'] + ' '+ new_df20['director_name'] +' ' + new_df20['genres']"
      ],
      "execution_count": null,
      "outputs": []
    },
    {
      "cell_type": "code",
      "metadata": {
        "colab": {
          "base_uri": "https://localhost:8080/"
        },
        "id": "wVRZv_ijRE9i",
        "outputId": "e8fb8cf5-0dfb-4cb9-a9b2-948ec95862ab"
      },
      "source": [
        "new_df20.isna().sum()"
      ],
      "execution_count": null,
      "outputs": [
        {
          "output_type": "execute_result",
          "data": {
            "text/plain": [
              "director_name     0\n",
              "actor_1_name      0\n",
              "actor_2_name      4\n",
              "actor_3_name     27\n",
              "genres            1\n",
              "movie_title       0\n",
              "comb             28\n",
              "dtype: int64"
            ]
          },
          "metadata": {},
          "execution_count": 29
        }
      ]
    },
    {
      "cell_type": "code",
      "metadata": {
        "id": "qL4NRl2SRHRH"
      },
      "source": [
        "new_df20 = new_df20.dropna(how='any')"
      ],
      "execution_count": null,
      "outputs": []
    },
    {
      "cell_type": "code",
      "metadata": {
        "colab": {
          "base_uri": "https://localhost:8080/"
        },
        "id": "o0XGXIQfRJ2m",
        "outputId": "0c885762-1c10-4df8-f66c-7cd18e138290"
      },
      "source": [
        "\n",
        "new_df20.isna().sum()"
      ],
      "execution_count": null,
      "outputs": [
        {
          "output_type": "execute_result",
          "data": {
            "text/plain": [
              "director_name    0\n",
              "actor_1_name     0\n",
              "actor_2_name     0\n",
              "actor_3_name     0\n",
              "genres           0\n",
              "movie_title      0\n",
              "comb             0\n",
              "dtype: int64"
            ]
          },
          "metadata": {},
          "execution_count": 31
        }
      ]
    },
    {
      "cell_type": "code",
      "metadata": {
        "colab": {
          "base_uri": "https://localhost:8080/"
        },
        "id": "hwS8yvydRMke",
        "outputId": "6416c05e-c73c-43dc-c678-1f53700bd53e"
      },
      "source": [
        "new_df20['movie_title'] = new_df20['movie_title'].str.lower()"
      ],
      "execution_count": null,
      "outputs": [
        {
          "output_type": "stream",
          "name": "stderr",
          "text": [
            "/usr/local/lib/python3.7/dist-packages/ipykernel_launcher.py:1: SettingWithCopyWarning: \n",
            "A value is trying to be set on a copy of a slice from a DataFrame.\n",
            "Try using .loc[row_indexer,col_indexer] = value instead\n",
            "\n",
            "See the caveats in the documentation: https://pandas.pydata.org/pandas-docs/stable/user_guide/indexing.html#returning-a-view-versus-a-copy\n",
            "  \"\"\"Entry point for launching an IPython kernel.\n"
          ]
        }
      ]
    },
    {
      "cell_type": "code",
      "metadata": {
        "colab": {
          "base_uri": "https://localhost:8080/",
          "height": 616
        },
        "id": "pTMgaWZbRRvf",
        "outputId": "93cee9bd-afe6-48f8-fb64-40c932ba9dda"
      },
      "source": [
        "new_df20"
      ],
      "execution_count": null,
      "outputs": [
        {
          "output_type": "execute_result",
          "data": {
            "text/html": [
              "<div>\n",
              "<style scoped>\n",
              "    .dataframe tbody tr th:only-of-type {\n",
              "        vertical-align: middle;\n",
              "    }\n",
              "\n",
              "    .dataframe tbody tr th {\n",
              "        vertical-align: top;\n",
              "    }\n",
              "\n",
              "    .dataframe thead th {\n",
              "        text-align: right;\n",
              "    }\n",
              "</style>\n",
              "<table border=\"1\" class=\"dataframe\">\n",
              "  <thead>\n",
              "    <tr style=\"text-align: right;\">\n",
              "      <th></th>\n",
              "      <th>director_name</th>\n",
              "      <th>actor_1_name</th>\n",
              "      <th>actor_2_name</th>\n",
              "      <th>actor_3_name</th>\n",
              "      <th>genres</th>\n",
              "      <th>movie_title</th>\n",
              "      <th>comb</th>\n",
              "    </tr>\n",
              "  </thead>\n",
              "  <tbody>\n",
              "    <tr>\n",
              "      <th>0</th>\n",
              "      <td>Nicolas Pesce</td>\n",
              "      <td>Andrea Riseborough</td>\n",
              "      <td>Demián Bichir</td>\n",
              "      <td>John Cho</td>\n",
              "      <td>Horror Mystery Thriller</td>\n",
              "      <td>the grudge</td>\n",
              "      <td>Andrea Riseborough Demián Bichir John Cho Nico...</td>\n",
              "    </tr>\n",
              "    <tr>\n",
              "      <th>1</th>\n",
              "      <td>William Eubank</td>\n",
              "      <td>Kristen Stewart</td>\n",
              "      <td>Vincent Cassel</td>\n",
              "      <td>Jessica Henwick</td>\n",
              "      <td>Action Horror Science Fiction Thriller</td>\n",
              "      <td>underwater</td>\n",
              "      <td>Kristen Stewart Vincent Cassel Jessica Henwick...</td>\n",
              "    </tr>\n",
              "    <tr>\n",
              "      <th>2</th>\n",
              "      <td>Miguel Arteta</td>\n",
              "      <td>Tiffany Haddish</td>\n",
              "      <td>Rose Byrne</td>\n",
              "      <td>Salma Hayek</td>\n",
              "      <td>Comedy</td>\n",
              "      <td>like a boss</td>\n",
              "      <td>Tiffany Haddish Rose Byrne Salma Hayek Miguel ...</td>\n",
              "    </tr>\n",
              "    <tr>\n",
              "      <th>3</th>\n",
              "      <td>Jon Avnet</td>\n",
              "      <td>Richard Gere</td>\n",
              "      <td>Peter Dinklage</td>\n",
              "      <td>Walton Goggins</td>\n",
              "      <td>Drama</td>\n",
              "      <td>three christs</td>\n",
              "      <td>Richard Gere Peter Dinklage Walton Goggins Jon...</td>\n",
              "    </tr>\n",
              "    <tr>\n",
              "      <th>4</th>\n",
              "      <td>Anthony Jerjen</td>\n",
              "      <td>Josh Hartnett</td>\n",
              "      <td>Margarita Levieva</td>\n",
              "      <td>Chandler Riggs</td>\n",
              "      <td>Crime Thriller Drama</td>\n",
              "      <td>inherit the viper</td>\n",
              "      <td>Josh Hartnett Margarita Levieva Chandler Riggs...</td>\n",
              "    </tr>\n",
              "    <tr>\n",
              "      <th>...</th>\n",
              "      <td>...</td>\n",
              "      <td>...</td>\n",
              "      <td>...</td>\n",
              "      <td>...</td>\n",
              "      <td>...</td>\n",
              "      <td>...</td>\n",
              "      <td>...</td>\n",
              "    </tr>\n",
              "    <tr>\n",
              "      <th>267</th>\n",
              "      <td>Pete Docter</td>\n",
              "      <td>Jamie Foxx</td>\n",
              "      <td>Tina Fey</td>\n",
              "      <td>Graham Norton</td>\n",
              "      <td>Animation Comedy Fantasy Family</td>\n",
              "      <td>soul</td>\n",
              "      <td>Jamie Foxx Tina Fey Graham Norton Pete Docter ...</td>\n",
              "    </tr>\n",
              "    <tr>\n",
              "      <th>268</th>\n",
              "      <td>Robert Rodriguez</td>\n",
              "      <td>Priyanka Chopra Jonas</td>\n",
              "      <td>Pedro Pascal</td>\n",
              "      <td>YaYa Gosselin</td>\n",
              "      <td>Action Fantasy Family Comedy</td>\n",
              "      <td>we can be heroes</td>\n",
              "      <td>Priyanka Chopra Jonas Pedro Pascal YaYa Gossel...</td>\n",
              "    </tr>\n",
              "    <tr>\n",
              "      <th>270</th>\n",
              "      <td>Regina King</td>\n",
              "      <td>Kingsley Ben-Adir</td>\n",
              "      <td>Eli Goree</td>\n",
              "      <td>Aldis Hodge</td>\n",
              "      <td>Drama</td>\n",
              "      <td>one night in miami...</td>\n",
              "      <td>Kingsley Ben-Adir Eli Goree Aldis Hodge Regina...</td>\n",
              "    </tr>\n",
              "    <tr>\n",
              "      <th>271</th>\n",
              "      <td>Emerald Fennell</td>\n",
              "      <td>Carey Mulligan</td>\n",
              "      <td>Bo Burnham</td>\n",
              "      <td>Alison Brie</td>\n",
              "      <td>Thriller Crime Drama</td>\n",
              "      <td>promising young woman</td>\n",
              "      <td>Carey Mulligan Bo Burnham Alison Brie Emerald ...</td>\n",
              "    </tr>\n",
              "    <tr>\n",
              "      <th>272</th>\n",
              "      <td>Kornél Mundruczó</td>\n",
              "      <td>Vanessa Kirby</td>\n",
              "      <td>Shia LaBeouf</td>\n",
              "      <td>Molly Parker</td>\n",
              "      <td>Drama</td>\n",
              "      <td>pieces of a woman</td>\n",
              "      <td>Vanessa Kirby Shia LaBeouf Molly Parker Kornél...</td>\n",
              "    </tr>\n",
              "  </tbody>\n",
              "</table>\n",
              "<p>245 rows × 7 columns</p>\n",
              "</div>"
            ],
            "text/plain": [
              "        director_name  ...                                               comb\n",
              "0       Nicolas Pesce  ...  Andrea Riseborough Demián Bichir John Cho Nico...\n",
              "1      William Eubank  ...  Kristen Stewart Vincent Cassel Jessica Henwick...\n",
              "2       Miguel Arteta  ...  Tiffany Haddish Rose Byrne Salma Hayek Miguel ...\n",
              "3           Jon Avnet  ...  Richard Gere Peter Dinklage Walton Goggins Jon...\n",
              "4      Anthony Jerjen  ...  Josh Hartnett Margarita Levieva Chandler Riggs...\n",
              "..                ...  ...                                                ...\n",
              "267       Pete Docter  ...  Jamie Foxx Tina Fey Graham Norton Pete Docter ...\n",
              "268  Robert Rodriguez  ...  Priyanka Chopra Jonas Pedro Pascal YaYa Gossel...\n",
              "270       Regina King  ...  Kingsley Ben-Adir Eli Goree Aldis Hodge Regina...\n",
              "271   Emerald Fennell  ...  Carey Mulligan Bo Burnham Alison Brie Emerald ...\n",
              "272  Kornél Mundruczó  ...  Vanessa Kirby Shia LaBeouf Molly Parker Kornél...\n",
              "\n",
              "[245 rows x 7 columns]"
            ]
          },
          "metadata": {},
          "execution_count": 33
        }
      ]
    },
    {
      "cell_type": "code",
      "metadata": {
        "id": "ZcNVDEUERUsb"
      },
      "source": [
        "old_df = pd.read_csv('/content/drive/MyDrive/movie_data/final_data.csv')"
      ],
      "execution_count": null,
      "outputs": []
    },
    {
      "cell_type": "code",
      "metadata": {
        "colab": {
          "base_uri": "https://localhost:8080/",
          "height": 766
        },
        "id": "MKB3j2PCR-_x",
        "outputId": "8e9ccfac-468e-45d1-e1c5-2490c43a4676"
      },
      "source": [
        "old_df"
      ],
      "execution_count": null,
      "outputs": [
        {
          "output_type": "execute_result",
          "data": {
            "text/html": [
              "<div>\n",
              "<style scoped>\n",
              "    .dataframe tbody tr th:only-of-type {\n",
              "        vertical-align: middle;\n",
              "    }\n",
              "\n",
              "    .dataframe tbody tr th {\n",
              "        vertical-align: top;\n",
              "    }\n",
              "\n",
              "    .dataframe thead th {\n",
              "        text-align: right;\n",
              "    }\n",
              "</style>\n",
              "<table border=\"1\" class=\"dataframe\">\n",
              "  <thead>\n",
              "    <tr style=\"text-align: right;\">\n",
              "      <th></th>\n",
              "      <th>director_name</th>\n",
              "      <th>actor_1_name</th>\n",
              "      <th>actor_2_name</th>\n",
              "      <th>actor_3_name</th>\n",
              "      <th>genres</th>\n",
              "      <th>movie_title</th>\n",
              "      <th>comb</th>\n",
              "    </tr>\n",
              "  </thead>\n",
              "  <tbody>\n",
              "    <tr>\n",
              "      <th>0</th>\n",
              "      <td>James Cameron</td>\n",
              "      <td>CCH Pounder</td>\n",
              "      <td>Joel David Moore</td>\n",
              "      <td>Wes Studi</td>\n",
              "      <td>Action Adventure Fantasy Sci-Fi</td>\n",
              "      <td>avatar</td>\n",
              "      <td>CCH Pounder Joel David Moore Wes Studi James C...</td>\n",
              "    </tr>\n",
              "    <tr>\n",
              "      <th>1</th>\n",
              "      <td>Gore Verbinski</td>\n",
              "      <td>Johnny Depp</td>\n",
              "      <td>Orlando Bloom</td>\n",
              "      <td>Jack Davenport</td>\n",
              "      <td>Action Adventure Fantasy</td>\n",
              "      <td>pirates of the caribbean: at world's end</td>\n",
              "      <td>Johnny Depp Orlando Bloom Jack Davenport Gore ...</td>\n",
              "    </tr>\n",
              "    <tr>\n",
              "      <th>2</th>\n",
              "      <td>Sam Mendes</td>\n",
              "      <td>Christoph Waltz</td>\n",
              "      <td>Rory Kinnear</td>\n",
              "      <td>Stephanie Sigman</td>\n",
              "      <td>Action Adventure Thriller</td>\n",
              "      <td>spectre</td>\n",
              "      <td>Christoph Waltz Rory Kinnear Stephanie Sigman ...</td>\n",
              "    </tr>\n",
              "    <tr>\n",
              "      <th>3</th>\n",
              "      <td>Christopher Nolan</td>\n",
              "      <td>Tom Hardy</td>\n",
              "      <td>Christian Bale</td>\n",
              "      <td>Joseph Gordon-Levitt</td>\n",
              "      <td>Action Thriller</td>\n",
              "      <td>the dark knight rises</td>\n",
              "      <td>Tom Hardy Christian Bale Joseph Gordon-Levitt ...</td>\n",
              "    </tr>\n",
              "    <tr>\n",
              "      <th>4</th>\n",
              "      <td>Doug Walker</td>\n",
              "      <td>Doug Walker</td>\n",
              "      <td>Rob Walker</td>\n",
              "      <td>unknown</td>\n",
              "      <td>Documentary</td>\n",
              "      <td>star wars: episode vii - the force awakens    ...</td>\n",
              "      <td>Doug Walker Rob Walker unknown Doug Walker Doc...</td>\n",
              "    </tr>\n",
              "    <tr>\n",
              "      <th>...</th>\n",
              "      <td>...</td>\n",
              "      <td>...</td>\n",
              "      <td>...</td>\n",
              "      <td>...</td>\n",
              "      <td>...</td>\n",
              "      <td>...</td>\n",
              "      <td>...</td>\n",
              "    </tr>\n",
              "    <tr>\n",
              "      <th>5869</th>\n",
              "      <td>Nick Bruno, Troy Quane</td>\n",
              "      <td>Will Smith</td>\n",
              "      <td>Tom Holland</td>\n",
              "      <td>Rashida Jones</td>\n",
              "      <td>Animation Action Adventure Comedy Family</td>\n",
              "      <td>spies in disguise</td>\n",
              "      <td>Will Smith Tom Holland Rashida Jones Nick Brun...</td>\n",
              "    </tr>\n",
              "    <tr>\n",
              "      <th>5870</th>\n",
              "      <td>Greta Gerwig</td>\n",
              "      <td>Saoirse Ronan</td>\n",
              "      <td>Emma Watson</td>\n",
              "      <td>Florence Pugh</td>\n",
              "      <td>Drama Romance</td>\n",
              "      <td>little women</td>\n",
              "      <td>Saoirse Ronan Emma Watson Florence Pugh Greta ...</td>\n",
              "    </tr>\n",
              "    <tr>\n",
              "      <th>5871</th>\n",
              "      <td>Sam Mendes</td>\n",
              "      <td>George MacKay</td>\n",
              "      <td>Dean-Charles Chapman</td>\n",
              "      <td>Mark Strong</td>\n",
              "      <td>War Drama Action Thriller</td>\n",
              "      <td>1917</td>\n",
              "      <td>George MacKay Dean-Charles Chapman Mark Strong...</td>\n",
              "    </tr>\n",
              "    <tr>\n",
              "      <th>5872</th>\n",
              "      <td>Destin Daniel Cretton</td>\n",
              "      <td>Michael B. Jordan</td>\n",
              "      <td>Jamie Foxx</td>\n",
              "      <td>Brie Larson</td>\n",
              "      <td>Drama Crime History</td>\n",
              "      <td>just mercy</td>\n",
              "      <td>Michael B. Jordan Jamie Foxx Brie Larson Desti...</td>\n",
              "    </tr>\n",
              "    <tr>\n",
              "      <th>5873</th>\n",
              "      <td>Chinonye Chukwu</td>\n",
              "      <td>Alfre Woodard</td>\n",
              "      <td>Wendell Pierce</td>\n",
              "      <td>Aldis Hodge</td>\n",
              "      <td>Drama</td>\n",
              "      <td>clemency</td>\n",
              "      <td>Alfre Woodard Wendell Pierce Aldis Hodge Chino...</td>\n",
              "    </tr>\n",
              "  </tbody>\n",
              "</table>\n",
              "<p>5874 rows × 7 columns</p>\n",
              "</div>"
            ],
            "text/plain": [
              "               director_name  ...                                               comb\n",
              "0              James Cameron  ...  CCH Pounder Joel David Moore Wes Studi James C...\n",
              "1             Gore Verbinski  ...  Johnny Depp Orlando Bloom Jack Davenport Gore ...\n",
              "2                 Sam Mendes  ...  Christoph Waltz Rory Kinnear Stephanie Sigman ...\n",
              "3          Christopher Nolan  ...  Tom Hardy Christian Bale Joseph Gordon-Levitt ...\n",
              "4                Doug Walker  ...  Doug Walker Rob Walker unknown Doug Walker Doc...\n",
              "...                      ...  ...                                                ...\n",
              "5869  Nick Bruno, Troy Quane  ...  Will Smith Tom Holland Rashida Jones Nick Brun...\n",
              "5870            Greta Gerwig  ...  Saoirse Ronan Emma Watson Florence Pugh Greta ...\n",
              "5871              Sam Mendes  ...  George MacKay Dean-Charles Chapman Mark Strong...\n",
              "5872   Destin Daniel Cretton  ...  Michael B. Jordan Jamie Foxx Brie Larson Desti...\n",
              "5873         Chinonye Chukwu  ...  Alfre Woodard Wendell Pierce Aldis Hodge Chino...\n",
              "\n",
              "[5874 rows x 7 columns]"
            ]
          },
          "metadata": {},
          "execution_count": 36
        }
      ]
    },
    {
      "cell_type": "code",
      "metadata": {
        "id": "KQJR1JHtSG3x"
      },
      "source": [
        "final_df = old_df.append(new_df20,ignore_index=True)"
      ],
      "execution_count": null,
      "outputs": []
    },
    {
      "cell_type": "code",
      "metadata": {
        "colab": {
          "base_uri": "https://localhost:8080/",
          "height": 750
        },
        "id": "CKCAEkrwSMCi",
        "outputId": "b91d99d8-2281-4743-abd4-dc2abf47d390"
      },
      "source": [
        "final_df"
      ],
      "execution_count": null,
      "outputs": [
        {
          "output_type": "execute_result",
          "data": {
            "text/html": [
              "<div>\n",
              "<style scoped>\n",
              "    .dataframe tbody tr th:only-of-type {\n",
              "        vertical-align: middle;\n",
              "    }\n",
              "\n",
              "    .dataframe tbody tr th {\n",
              "        vertical-align: top;\n",
              "    }\n",
              "\n",
              "    .dataframe thead th {\n",
              "        text-align: right;\n",
              "    }\n",
              "</style>\n",
              "<table border=\"1\" class=\"dataframe\">\n",
              "  <thead>\n",
              "    <tr style=\"text-align: right;\">\n",
              "      <th></th>\n",
              "      <th>director_name</th>\n",
              "      <th>actor_1_name</th>\n",
              "      <th>actor_2_name</th>\n",
              "      <th>actor_3_name</th>\n",
              "      <th>genres</th>\n",
              "      <th>movie_title</th>\n",
              "      <th>comb</th>\n",
              "    </tr>\n",
              "  </thead>\n",
              "  <tbody>\n",
              "    <tr>\n",
              "      <th>0</th>\n",
              "      <td>James Cameron</td>\n",
              "      <td>CCH Pounder</td>\n",
              "      <td>Joel David Moore</td>\n",
              "      <td>Wes Studi</td>\n",
              "      <td>Action Adventure Fantasy Sci-Fi</td>\n",
              "      <td>avatar</td>\n",
              "      <td>CCH Pounder Joel David Moore Wes Studi James C...</td>\n",
              "    </tr>\n",
              "    <tr>\n",
              "      <th>1</th>\n",
              "      <td>Gore Verbinski</td>\n",
              "      <td>Johnny Depp</td>\n",
              "      <td>Orlando Bloom</td>\n",
              "      <td>Jack Davenport</td>\n",
              "      <td>Action Adventure Fantasy</td>\n",
              "      <td>pirates of the caribbean: at world's end</td>\n",
              "      <td>Johnny Depp Orlando Bloom Jack Davenport Gore ...</td>\n",
              "    </tr>\n",
              "    <tr>\n",
              "      <th>2</th>\n",
              "      <td>Sam Mendes</td>\n",
              "      <td>Christoph Waltz</td>\n",
              "      <td>Rory Kinnear</td>\n",
              "      <td>Stephanie Sigman</td>\n",
              "      <td>Action Adventure Thriller</td>\n",
              "      <td>spectre</td>\n",
              "      <td>Christoph Waltz Rory Kinnear Stephanie Sigman ...</td>\n",
              "    </tr>\n",
              "    <tr>\n",
              "      <th>3</th>\n",
              "      <td>Christopher Nolan</td>\n",
              "      <td>Tom Hardy</td>\n",
              "      <td>Christian Bale</td>\n",
              "      <td>Joseph Gordon-Levitt</td>\n",
              "      <td>Action Thriller</td>\n",
              "      <td>the dark knight rises</td>\n",
              "      <td>Tom Hardy Christian Bale Joseph Gordon-Levitt ...</td>\n",
              "    </tr>\n",
              "    <tr>\n",
              "      <th>4</th>\n",
              "      <td>Doug Walker</td>\n",
              "      <td>Doug Walker</td>\n",
              "      <td>Rob Walker</td>\n",
              "      <td>unknown</td>\n",
              "      <td>Documentary</td>\n",
              "      <td>star wars: episode vii - the force awakens    ...</td>\n",
              "      <td>Doug Walker Rob Walker unknown Doug Walker Doc...</td>\n",
              "    </tr>\n",
              "    <tr>\n",
              "      <th>...</th>\n",
              "      <td>...</td>\n",
              "      <td>...</td>\n",
              "      <td>...</td>\n",
              "      <td>...</td>\n",
              "      <td>...</td>\n",
              "      <td>...</td>\n",
              "      <td>...</td>\n",
              "    </tr>\n",
              "    <tr>\n",
              "      <th>6114</th>\n",
              "      <td>Pete Docter</td>\n",
              "      <td>Jamie Foxx</td>\n",
              "      <td>Tina Fey</td>\n",
              "      <td>Graham Norton</td>\n",
              "      <td>Animation Comedy Fantasy Family</td>\n",
              "      <td>soul</td>\n",
              "      <td>Jamie Foxx Tina Fey Graham Norton Pete Docter ...</td>\n",
              "    </tr>\n",
              "    <tr>\n",
              "      <th>6115</th>\n",
              "      <td>Robert Rodriguez</td>\n",
              "      <td>Priyanka Chopra Jonas</td>\n",
              "      <td>Pedro Pascal</td>\n",
              "      <td>YaYa Gosselin</td>\n",
              "      <td>Action Fantasy Family Comedy</td>\n",
              "      <td>we can be heroes</td>\n",
              "      <td>Priyanka Chopra Jonas Pedro Pascal YaYa Gossel...</td>\n",
              "    </tr>\n",
              "    <tr>\n",
              "      <th>6116</th>\n",
              "      <td>Regina King</td>\n",
              "      <td>Kingsley Ben-Adir</td>\n",
              "      <td>Eli Goree</td>\n",
              "      <td>Aldis Hodge</td>\n",
              "      <td>Drama</td>\n",
              "      <td>one night in miami...</td>\n",
              "      <td>Kingsley Ben-Adir Eli Goree Aldis Hodge Regina...</td>\n",
              "    </tr>\n",
              "    <tr>\n",
              "      <th>6117</th>\n",
              "      <td>Emerald Fennell</td>\n",
              "      <td>Carey Mulligan</td>\n",
              "      <td>Bo Burnham</td>\n",
              "      <td>Alison Brie</td>\n",
              "      <td>Thriller Crime Drama</td>\n",
              "      <td>promising young woman</td>\n",
              "      <td>Carey Mulligan Bo Burnham Alison Brie Emerald ...</td>\n",
              "    </tr>\n",
              "    <tr>\n",
              "      <th>6118</th>\n",
              "      <td>Kornél Mundruczó</td>\n",
              "      <td>Vanessa Kirby</td>\n",
              "      <td>Shia LaBeouf</td>\n",
              "      <td>Molly Parker</td>\n",
              "      <td>Drama</td>\n",
              "      <td>pieces of a woman</td>\n",
              "      <td>Vanessa Kirby Shia LaBeouf Molly Parker Kornél...</td>\n",
              "    </tr>\n",
              "  </tbody>\n",
              "</table>\n",
              "<p>6119 rows × 7 columns</p>\n",
              "</div>"
            ],
            "text/plain": [
              "          director_name  ...                                               comb\n",
              "0         James Cameron  ...  CCH Pounder Joel David Moore Wes Studi James C...\n",
              "1        Gore Verbinski  ...  Johnny Depp Orlando Bloom Jack Davenport Gore ...\n",
              "2            Sam Mendes  ...  Christoph Waltz Rory Kinnear Stephanie Sigman ...\n",
              "3     Christopher Nolan  ...  Tom Hardy Christian Bale Joseph Gordon-Levitt ...\n",
              "4           Doug Walker  ...  Doug Walker Rob Walker unknown Doug Walker Doc...\n",
              "...                 ...  ...                                                ...\n",
              "6114        Pete Docter  ...  Jamie Foxx Tina Fey Graham Norton Pete Docter ...\n",
              "6115   Robert Rodriguez  ...  Priyanka Chopra Jonas Pedro Pascal YaYa Gossel...\n",
              "6116        Regina King  ...  Kingsley Ben-Adir Eli Goree Aldis Hodge Regina...\n",
              "6117    Emerald Fennell  ...  Carey Mulligan Bo Burnham Alison Brie Emerald ...\n",
              "6118   Kornél Mundruczó  ...  Vanessa Kirby Shia LaBeouf Molly Parker Kornél...\n",
              "\n",
              "[6119 rows x 7 columns]"
            ]
          },
          "metadata": {},
          "execution_count": 38
        }
      ]
    },
    {
      "cell_type": "code",
      "metadata": {
        "id": "dzsUXQq8SOgt"
      },
      "source": [
        "final_df.to_csv('/content/drive/MyDrive/movie_data/main_data.csv',index=False)"
      ],
      "execution_count": null,
      "outputs": []
    },
    {
      "cell_type": "code",
      "metadata": {
        "id": "L-_Rnev5_myW"
      },
      "source": [
        ""
      ],
      "execution_count": null,
      "outputs": []
    }
  ]
}